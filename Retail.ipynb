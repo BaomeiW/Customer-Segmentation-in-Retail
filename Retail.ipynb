{
 "cells": [
  {
   "cell_type": "markdown",
   "metadata": {},
   "source": [
    "# Retail\n",
    "\n",
    "### Problem Statement\n",
    "\n",
    "- It is a critical requirement for business to understand the value derived from a customer. RFM is a method used for analyzing customer value.  \n",
    "- Customer segmentation is the practice of segregating the customer base into groups of individuals based on some common characteristics such as age, gender, interests, and spending habits.  \n",
    "- Perform customer segmentation using RFM analysis. The resulting segments can be ordered from most valuable (highest recency, frequency, and value) to least valuable (lowest recency, frequency, and value)."
   ]
  },
  {
   "cell_type": "markdown",
   "metadata": {},
   "source": [
    "### Project Task: Week 1\n",
    "##### Data Cleaning:\n",
    "1. Perform a preliminary data inspection and data cleaning.  \n",
    "  a. Check for missing data and formulate an apt strategy to treat them.  \n",
    "  b. Remove duplicate data records.  \n",
    "  c. Perform descriptive analytics on the given data.  \n",
    "\n",
    "##### Data Transformation:  \n",
    "2. Perform cohort analysis (a cohort is a group of subjects that share a defining characteristic). Observe how a cohort behaves across time and compare it to other cohorts.  \n",
    "  a. Create month cohorts and analyze active customers for each cohort.  \n",
    "  b. Analyze the retention rate of customers."
   ]
  },
  {
   "cell_type": "markdown",
   "metadata": {},
   "source": [
    "### Setup\n",
    "\n",
    "Load the required libraries and configure some settings for plots."
   ]
  },
  {
   "cell_type": "code",
   "execution_count": 1,
   "metadata": {},
   "outputs": [],
   "source": [
    "import pandas as pd\n",
    "import numpy as np\n",
    "import matplotlib.pyplot as plt\n",
    "import seaborn as sns\n",
    "import datetime\n",
    "import squarify\n",
    "import warnings\n",
    "from operator import attrgetter\n",
    "import matplotlib.colors as mcolors\n",
    "%matplotlib inline\n",
    "sns.set()"
   ]
  },
  {
   "cell_type": "code",
   "execution_count": 2,
   "metadata": {},
   "outputs": [],
   "source": [
    "from sklearn.preprocessing import StandardScaler\n",
    "from sklearn.cluster import KMeans"
   ]
  },
  {
   "cell_type": "markdown",
   "metadata": {},
   "source": [
    "### Importing data"
   ]
  },
  {
   "cell_type": "code",
   "execution_count": 3,
   "metadata": {},
   "outputs": [
    {
     "data": {
      "text/html": [
       "<div>\n",
       "<style scoped>\n",
       "    .dataframe tbody tr th:only-of-type {\n",
       "        vertical-align: middle;\n",
       "    }\n",
       "\n",
       "    .dataframe tbody tr th {\n",
       "        vertical-align: top;\n",
       "    }\n",
       "\n",
       "    .dataframe thead th {\n",
       "        text-align: right;\n",
       "    }\n",
       "</style>\n",
       "<table border=\"1\" class=\"dataframe\">\n",
       "  <thead>\n",
       "    <tr style=\"text-align: right;\">\n",
       "      <th></th>\n",
       "      <th>InvoiceNo</th>\n",
       "      <th>StockCode</th>\n",
       "      <th>Description</th>\n",
       "      <th>Quantity</th>\n",
       "      <th>InvoiceDate</th>\n",
       "      <th>UnitPrice</th>\n",
       "      <th>CustomerID</th>\n",
       "      <th>Country</th>\n",
       "    </tr>\n",
       "  </thead>\n",
       "  <tbody>\n",
       "    <tr>\n",
       "      <th>0</th>\n",
       "      <td>536365</td>\n",
       "      <td>85123A</td>\n",
       "      <td>WHITE HANGING HEART T-LIGHT HOLDER</td>\n",
       "      <td>6</td>\n",
       "      <td>2010-12-01 08:26:00</td>\n",
       "      <td>2.55</td>\n",
       "      <td>17850</td>\n",
       "      <td>United Kingdom</td>\n",
       "    </tr>\n",
       "    <tr>\n",
       "      <th>1</th>\n",
       "      <td>536365</td>\n",
       "      <td>71053</td>\n",
       "      <td>WHITE METAL LANTERN</td>\n",
       "      <td>6</td>\n",
       "      <td>2010-12-01 08:26:00</td>\n",
       "      <td>3.39</td>\n",
       "      <td>17850</td>\n",
       "      <td>United Kingdom</td>\n",
       "    </tr>\n",
       "    <tr>\n",
       "      <th>2</th>\n",
       "      <td>536365</td>\n",
       "      <td>84406B</td>\n",
       "      <td>CREAM CUPID HEARTS COAT HANGER</td>\n",
       "      <td>8</td>\n",
       "      <td>2010-12-01 08:26:00</td>\n",
       "      <td>2.75</td>\n",
       "      <td>17850</td>\n",
       "      <td>United Kingdom</td>\n",
       "    </tr>\n",
       "    <tr>\n",
       "      <th>3</th>\n",
       "      <td>536365</td>\n",
       "      <td>84029G</td>\n",
       "      <td>KNITTED UNION FLAG HOT WATER BOTTLE</td>\n",
       "      <td>6</td>\n",
       "      <td>2010-12-01 08:26:00</td>\n",
       "      <td>3.39</td>\n",
       "      <td>17850</td>\n",
       "      <td>United Kingdom</td>\n",
       "    </tr>\n",
       "    <tr>\n",
       "      <th>4</th>\n",
       "      <td>536365</td>\n",
       "      <td>84029E</td>\n",
       "      <td>RED WOOLLY HOTTIE WHITE HEART.</td>\n",
       "      <td>6</td>\n",
       "      <td>2010-12-01 08:26:00</td>\n",
       "      <td>3.39</td>\n",
       "      <td>17850</td>\n",
       "      <td>United Kingdom</td>\n",
       "    </tr>\n",
       "  </tbody>\n",
       "</table>\n",
       "</div>"
      ],
      "text/plain": [
       "  InvoiceNo StockCode                          Description  Quantity  \\\n",
       "0    536365    85123A   WHITE HANGING HEART T-LIGHT HOLDER         6   \n",
       "1    536365     71053                  WHITE METAL LANTERN         6   \n",
       "2    536365    84406B       CREAM CUPID HEARTS COAT HANGER         8   \n",
       "3    536365    84029G  KNITTED UNION FLAG HOT WATER BOTTLE         6   \n",
       "4    536365    84029E       RED WOOLLY HOTTIE WHITE HEART.         6   \n",
       "\n",
       "          InvoiceDate  UnitPrice CustomerID         Country  \n",
       "0 2010-12-01 08:26:00       2.55      17850  United Kingdom  \n",
       "1 2010-12-01 08:26:00       3.39      17850  United Kingdom  \n",
       "2 2010-12-01 08:26:00       2.75      17850  United Kingdom  \n",
       "3 2010-12-01 08:26:00       3.39      17850  United Kingdom  \n",
       "4 2010-12-01 08:26:00       3.39      17850  United Kingdom  "
      ]
     },
     "execution_count": 3,
     "metadata": {},
     "output_type": "execute_result"
    }
   ],
   "source": [
    "data = pd.read_excel('Online Retail.xlsx',\n",
    "                     dtype = {'CustomerID': str,\n",
    "                             'InvoiceNo': str},\n",
    "                    parse_dates = ['InvoiceDate']\n",
    "                    )\n",
    "data.head()"
   ]
  },
  {
   "cell_type": "code",
   "execution_count": 4,
   "metadata": {},
   "outputs": [
    {
     "data": {
      "text/plain": [
       "(541909, 8)"
      ]
     },
     "execution_count": 4,
     "metadata": {},
     "output_type": "execute_result"
    }
   ],
   "source": [
    "data.shape"
   ]
  },
  {
   "cell_type": "code",
   "execution_count": 5,
   "metadata": {},
   "outputs": [
    {
     "name": "stdout",
     "output_type": "stream",
     "text": [
      "<class 'pandas.core.frame.DataFrame'>\n",
      "RangeIndex: 541909 entries, 0 to 541908\n",
      "Data columns (total 8 columns):\n",
      " #   Column       Non-Null Count   Dtype         \n",
      "---  ------       --------------   -----         \n",
      " 0   InvoiceNo    541909 non-null  object        \n",
      " 1   StockCode    541909 non-null  object        \n",
      " 2   Description  540455 non-null  object        \n",
      " 3   Quantity     541909 non-null  int64         \n",
      " 4   InvoiceDate  541909 non-null  datetime64[ns]\n",
      " 5   UnitPrice    541909 non-null  float64       \n",
      " 6   CustomerID   406829 non-null  object        \n",
      " 7   Country      541909 non-null  object        \n",
      "dtypes: datetime64[ns](1), float64(1), int64(1), object(5)\n",
      "memory usage: 33.1+ MB\n"
     ]
    }
   ],
   "source": [
    "data.info()"
   ]
  },
  {
   "cell_type": "code",
   "execution_count": 6,
   "metadata": {},
   "outputs": [],
   "source": [
    "# As for the analysis, we need to have customer IDs, we drop all the rows without them.\n",
    "data.dropna(subset = ['CustomerID'], inplace = True)"
   ]
  },
  {
   "cell_type": "code",
   "execution_count": 7,
   "metadata": {},
   "outputs": [
    {
     "data": {
      "text/plain": [
       "5225"
      ]
     },
     "execution_count": 7,
     "metadata": {},
     "output_type": "execute_result"
    }
   ],
   "source": [
    "# Check the duplicates\n",
    "data.duplicated().sum()"
   ]
  },
  {
   "cell_type": "code",
   "execution_count": 8,
   "metadata": {},
   "outputs": [],
   "source": [
    "data.drop_duplicates(inplace = True)"
   ]
  },
  {
   "cell_type": "markdown",
   "metadata": {},
   "source": [
    "### Exploratory Data Analysis"
   ]
  },
  {
   "cell_type": "code",
   "execution_count": 9,
   "metadata": {},
   "outputs": [
    {
     "data": {
      "text/html": [
       "<div>\n",
       "<style scoped>\n",
       "    .dataframe tbody tr th:only-of-type {\n",
       "        vertical-align: middle;\n",
       "    }\n",
       "\n",
       "    .dataframe tbody tr th {\n",
       "        vertical-align: top;\n",
       "    }\n",
       "\n",
       "    .dataframe thead th {\n",
       "        text-align: right;\n",
       "    }\n",
       "</style>\n",
       "<table border=\"1\" class=\"dataframe\">\n",
       "  <thead>\n",
       "    <tr style=\"text-align: right;\">\n",
       "      <th></th>\n",
       "      <th>count</th>\n",
       "      <th>mean</th>\n",
       "      <th>std</th>\n",
       "      <th>min</th>\n",
       "      <th>25%</th>\n",
       "      <th>50%</th>\n",
       "      <th>75%</th>\n",
       "      <th>max</th>\n",
       "    </tr>\n",
       "  </thead>\n",
       "  <tbody>\n",
       "    <tr>\n",
       "      <th>Quantity</th>\n",
       "      <td>401604.0</td>\n",
       "      <td>12.183273</td>\n",
       "      <td>250.283037</td>\n",
       "      <td>-80995.0</td>\n",
       "      <td>2.00</td>\n",
       "      <td>5.00</td>\n",
       "      <td>12.00</td>\n",
       "      <td>80995.0</td>\n",
       "    </tr>\n",
       "    <tr>\n",
       "      <th>UnitPrice</th>\n",
       "      <td>401604.0</td>\n",
       "      <td>3.474064</td>\n",
       "      <td>69.764035</td>\n",
       "      <td>0.0</td>\n",
       "      <td>1.25</td>\n",
       "      <td>1.95</td>\n",
       "      <td>3.75</td>\n",
       "      <td>38970.0</td>\n",
       "    </tr>\n",
       "  </tbody>\n",
       "</table>\n",
       "</div>"
      ],
      "text/plain": [
       "              count       mean         std      min   25%   50%    75%  \\\n",
       "Quantity   401604.0  12.183273  250.283037 -80995.0  2.00  5.00  12.00   \n",
       "UnitPrice  401604.0   3.474064   69.764035      0.0  1.25  1.95   3.75   \n",
       "\n",
       "               max  \n",
       "Quantity   80995.0  \n",
       "UnitPrice  38970.0  "
      ]
     },
     "execution_count": 9,
     "metadata": {},
     "output_type": "execute_result"
    }
   ],
   "source": [
    "data.describe().transpose()"
   ]
  },
  {
   "cell_type": "code",
   "execution_count": 10,
   "metadata": {},
   "outputs": [
    {
     "data": {
      "text/plain": [
       "8872"
      ]
     },
     "execution_count": 10,
     "metadata": {},
     "output_type": "execute_result"
    }
   ],
   "source": [
    "(data['Quantity'] < 0).sum()"
   ]
  },
  {
   "cell_type": "code",
   "execution_count": 11,
   "metadata": {},
   "outputs": [],
   "source": [
    "data = data[data['Quantity'] > 0]"
   ]
  },
  {
   "cell_type": "markdown",
   "metadata": {},
   "source": [
    "We can see that there are orders with negative quantity — most likely returns. In total, there are around 9 thousand purchases with a negative quantity. We remove them from the dataset."
   ]
  },
  {
   "cell_type": "code",
   "execution_count": 12,
   "metadata": {},
   "outputs": [],
   "source": [
    "# Calculate an aggregate metric indicating how many orders were placed by each customer and plot the distribution\n",
    "num_orders = data.groupby('CustomerID')['InvoiceNo'].nunique()"
   ]
  },
  {
   "cell_type": "code",
   "execution_count": 13,
   "metadata": {},
   "outputs": [
    {
     "name": "stdout",
     "output_type": "stream",
     "text": [
      "Customers ordered more than once are 65.57%.\n"
     ]
    }
   ],
   "source": [
    "multi_orders_pct = np.sum(num_orders > 1) / data['CustomerID'].nunique()\n",
    "print('Customers ordered more than once are {:.2f}%.'.format(multi_orders_pct * 100))"
   ]
  },
  {
   "cell_type": "code",
   "execution_count": 14,
   "metadata": {},
   "outputs": [
    {
     "name": "stderr",
     "output_type": "stream",
     "text": [
      "C:\\Users\\bnmwe\\anaconda3\\lib\\site-packages\\seaborn\\distributions.py:2619: FutureWarning: `distplot` is a deprecated function and will be removed in a future version. Please adapt your code to use either `displot` (a figure-level function with similar flexibility) or `histplot` (an axes-level function for histograms).\n",
      "  warnings.warn(msg, FutureWarning)\n"
     ]
    },
    {
     "data": {
      "text/plain": [
       "[Text(0.5, 1.0, 'Distribution of number of orders per customer'),\n",
       " Text(0.5, 0, 'Number of orders'),\n",
       " Text(0, 0.5, 'Number of customers')]"
      ]
     },
     "execution_count": 14,
     "metadata": {},
     "output_type": "execute_result"
    },
    {
     "data": {
      "image/png": "[encoded data removed]",
      "text/plain": [
       "<Figure size 576x360 with 1 Axes>"
      ]
     },
     "metadata": {},
     "output_type": "display_data"
    }
   ],
   "source": [
    "plt.figure(figsize = (8, 5))\n",
    "fig = sns.distplot(num_orders, color = 'b', kde = False)\n",
    "fig.set(title = 'Distribution of number of orders per customer',\n",
    "        xlabel = 'Number of orders',\n",
    "        ylabel = 'Number of customers')"
   ]
  },
  {
   "cell_type": "markdown",
   "metadata": {},
   "source": [
    "### Cohort Analysis"
   ]
  },
  {
   "cell_type": "code",
   "execution_count": 15,
   "metadata": {},
   "outputs": [],
   "source": [
    "# Keep only relevant columns\n",
    "data_ca = data[['InvoiceNo', 'InvoiceDate', 'CustomerID']]"
   ]
  },
  {
   "cell_type": "code",
   "execution_count": 16,
   "metadata": {},
   "outputs": [
    {
     "name": "stderr",
     "output_type": "stream",
     "text": [
      "C:\\Users\\bnmwe\\anaconda3\\lib\\site-packages\\ipykernel_launcher.py:2: SettingWithCopyWarning: \n",
      "A value is trying to be set on a copy of a slice from a DataFrame.\n",
      "Try using .loc[row_indexer,col_indexer] = value instead\n",
      "\n",
      "See the caveats in the documentation: https://pandas.pydata.org/pandas-docs/stable/user_guide/indexing.html#returning-a-view-versus-a-copy\n",
      "  \n"
     ]
    }
   ],
   "source": [
    "# Since we're doing monthly cohorts, we'll be looking at the total monthly behavior of our customers\n",
    "data_ca['order_month'] = data_ca['InvoiceDate'].dt.to_period('M')\n",
    "#data_ca['order_month'] = pd.DatetimeIndex(data_ca['InvoiceDate']).month"
   ]
  },
  {
   "cell_type": "code",
   "execution_count": 17,
   "metadata": {},
   "outputs": [
    {
     "name": "stderr",
     "output_type": "stream",
     "text": [
      "C:\\Users\\bnmwe\\anaconda3\\lib\\site-packages\\ipykernel_launcher.py:2: SettingWithCopyWarning: \n",
      "A value is trying to be set on a copy of a slice from a DataFrame.\n",
      "Try using .loc[row_indexer,col_indexer] = value instead\n",
      "\n",
      "See the caveats in the documentation: https://pandas.pydata.org/pandas-docs/stable/user_guide/indexing.html#returning-a-view-versus-a-copy\n",
      "  \n"
     ]
    },
    {
     "data": {
      "text/html": [
       "<div>\n",
       "<style scoped>\n",
       "    .dataframe tbody tr th:only-of-type {\n",
       "        vertical-align: middle;\n",
       "    }\n",
       "\n",
       "    .dataframe tbody tr th {\n",
       "        vertical-align: top;\n",
       "    }\n",
       "\n",
       "    .dataframe thead th {\n",
       "        text-align: right;\n",
       "    }\n",
       "</style>\n",
       "<table border=\"1\" class=\"dataframe\">\n",
       "  <thead>\n",
       "    <tr style=\"text-align: right;\">\n",
       "      <th></th>\n",
       "      <th>InvoiceNo</th>\n",
       "      <th>InvoiceDate</th>\n",
       "      <th>CustomerID</th>\n",
       "      <th>order_month</th>\n",
       "      <th>cohort</th>\n",
       "    </tr>\n",
       "  </thead>\n",
       "  <tbody>\n",
       "    <tr>\n",
       "      <th>171622</th>\n",
       "      <td>551437</td>\n",
       "      <td>2011-04-28 15:13:00</td>\n",
       "      <td>13725</td>\n",
       "      <td>2011-04</td>\n",
       "      <td>2011-02</td>\n",
       "    </tr>\n",
       "    <tr>\n",
       "      <th>360094</th>\n",
       "      <td>568211</td>\n",
       "      <td>2011-09-25 15:59:00</td>\n",
       "      <td>13429</td>\n",
       "      <td>2011-09</td>\n",
       "      <td>2011-09</td>\n",
       "    </tr>\n",
       "    <tr>\n",
       "      <th>97962</th>\n",
       "      <td>544662</td>\n",
       "      <td>2011-02-22 14:10:00</td>\n",
       "      <td>12845</td>\n",
       "      <td>2011-02</td>\n",
       "      <td>2011-02</td>\n",
       "    </tr>\n",
       "    <tr>\n",
       "      <th>392724</th>\n",
       "      <td>570715</td>\n",
       "      <td>2011-10-12 10:23:00</td>\n",
       "      <td>18287</td>\n",
       "      <td>2011-10</td>\n",
       "      <td>2011-05</td>\n",
       "    </tr>\n",
       "    <tr>\n",
       "      <th>143972</th>\n",
       "      <td>548714</td>\n",
       "      <td>2011-04-03 15:07:00</td>\n",
       "      <td>17337</td>\n",
       "      <td>2011-04</td>\n",
       "      <td>2011-02</td>\n",
       "    </tr>\n",
       "    <tr>\n",
       "      <th>78276</th>\n",
       "      <td>542862</td>\n",
       "      <td>2011-02-01 11:51:00</td>\n",
       "      <td>14606</td>\n",
       "      <td>2011-02</td>\n",
       "      <td>2010-12</td>\n",
       "    </tr>\n",
       "    <tr>\n",
       "      <th>398047</th>\n",
       "      <td>571217</td>\n",
       "      <td>2011-10-14 13:24:00</td>\n",
       "      <td>17451</td>\n",
       "      <td>2011-10</td>\n",
       "      <td>2011-08</td>\n",
       "    </tr>\n",
       "    <tr>\n",
       "      <th>89799</th>\n",
       "      <td>543975</td>\n",
       "      <td>2011-02-14 15:23:00</td>\n",
       "      <td>17231</td>\n",
       "      <td>2011-02</td>\n",
       "      <td>2010-12</td>\n",
       "    </tr>\n",
       "    <tr>\n",
       "      <th>195931</th>\n",
       "      <td>553765</td>\n",
       "      <td>2011-05-19 10:43:00</td>\n",
       "      <td>17245</td>\n",
       "      <td>2011-05</td>\n",
       "      <td>2011-05</td>\n",
       "    </tr>\n",
       "    <tr>\n",
       "      <th>204017</th>\n",
       "      <td>554628</td>\n",
       "      <td>2011-05-25 11:26:00</td>\n",
       "      <td>15039</td>\n",
       "      <td>2011-05</td>\n",
       "      <td>2010-12</td>\n",
       "    </tr>\n",
       "  </tbody>\n",
       "</table>\n",
       "</div>"
      ],
      "text/plain": [
       "       InvoiceNo         InvoiceDate CustomerID order_month   cohort\n",
       "171622    551437 2011-04-28 15:13:00      13725     2011-04  2011-02\n",
       "360094    568211 2011-09-25 15:59:00      13429     2011-09  2011-09\n",
       "97962     544662 2011-02-22 14:10:00      12845     2011-02  2011-02\n",
       "392724    570715 2011-10-12 10:23:00      18287     2011-10  2011-05\n",
       "143972    548714 2011-04-03 15:07:00      17337     2011-04  2011-02\n",
       "78276     542862 2011-02-01 11:51:00      14606     2011-02  2010-12\n",
       "398047    571217 2011-10-14 13:24:00      17451     2011-10  2011-08\n",
       "89799     543975 2011-02-14 15:23:00      17231     2011-02  2010-12\n",
       "195931    553765 2011-05-19 10:43:00      17245     2011-05  2011-05\n",
       "204017    554628 2011-05-25 11:26:00      15039     2011-05  2010-12"
      ]
     },
     "execution_count": 17,
     "metadata": {},
     "output_type": "execute_result"
    }
   ],
   "source": [
    "# Determine the customer's cohort group (based on their first order)\n",
    "data_ca['cohort'] = data_ca.groupby('CustomerID')['InvoiceDate'].transform('min').dt.to_period('M')\n",
    "data_ca.sample(10)"
   ]
  },
  {
   "cell_type": "code",
   "execution_count": 18,
   "metadata": {},
   "outputs": [],
   "source": [
    "data_ca = data_ca.groupby(['cohort', 'order_month']).agg(num_customers=('CustomerID' , 'nunique')).reset_index(drop=False)\n",
    "data_ca['period_number'] = (data_ca.order_month - data_ca.cohort).apply(attrgetter('n'))"
   ]
  },
  {
   "cell_type": "code",
   "execution_count": 19,
   "metadata": {},
   "outputs": [],
   "source": [
    "data_ca['CohortPeriod'] = np.arange(len(data_ca)) + 1"
   ]
  },
  {
   "cell_type": "code",
   "execution_count": 20,
   "metadata": {},
   "outputs": [
    {
     "data": {
      "text/html": [
       "<div>\n",
       "<style scoped>\n",
       "    .dataframe tbody tr th:only-of-type {\n",
       "        vertical-align: middle;\n",
       "    }\n",
       "\n",
       "    .dataframe tbody tr th {\n",
       "        vertical-align: top;\n",
       "    }\n",
       "\n",
       "    .dataframe thead th {\n",
       "        text-align: right;\n",
       "    }\n",
       "</style>\n",
       "<table border=\"1\" class=\"dataframe\">\n",
       "  <thead>\n",
       "    <tr style=\"text-align: right;\">\n",
       "      <th></th>\n",
       "      <th>cohort</th>\n",
       "      <th>order_month</th>\n",
       "      <th>num_customers</th>\n",
       "      <th>period_number</th>\n",
       "      <th>CohortPeriod</th>\n",
       "    </tr>\n",
       "  </thead>\n",
       "  <tbody>\n",
       "    <tr>\n",
       "      <th>0</th>\n",
       "      <td>2010-12</td>\n",
       "      <td>2010-12</td>\n",
       "      <td>885</td>\n",
       "      <td>0</td>\n",
       "      <td>1</td>\n",
       "    </tr>\n",
       "    <tr>\n",
       "      <th>1</th>\n",
       "      <td>2010-12</td>\n",
       "      <td>2011-01</td>\n",
       "      <td>324</td>\n",
       "      <td>1</td>\n",
       "      <td>2</td>\n",
       "    </tr>\n",
       "    <tr>\n",
       "      <th>2</th>\n",
       "      <td>2010-12</td>\n",
       "      <td>2011-02</td>\n",
       "      <td>286</td>\n",
       "      <td>2</td>\n",
       "      <td>3</td>\n",
       "    </tr>\n",
       "    <tr>\n",
       "      <th>3</th>\n",
       "      <td>2010-12</td>\n",
       "      <td>2011-03</td>\n",
       "      <td>340</td>\n",
       "      <td>3</td>\n",
       "      <td>4</td>\n",
       "    </tr>\n",
       "    <tr>\n",
       "      <th>4</th>\n",
       "      <td>2010-12</td>\n",
       "      <td>2011-04</td>\n",
       "      <td>321</td>\n",
       "      <td>4</td>\n",
       "      <td>5</td>\n",
       "    </tr>\n",
       "    <tr>\n",
       "      <th>5</th>\n",
       "      <td>2010-12</td>\n",
       "      <td>2011-05</td>\n",
       "      <td>352</td>\n",
       "      <td>5</td>\n",
       "      <td>6</td>\n",
       "    </tr>\n",
       "    <tr>\n",
       "      <th>6</th>\n",
       "      <td>2010-12</td>\n",
       "      <td>2011-06</td>\n",
       "      <td>321</td>\n",
       "      <td>6</td>\n",
       "      <td>7</td>\n",
       "    </tr>\n",
       "    <tr>\n",
       "      <th>7</th>\n",
       "      <td>2010-12</td>\n",
       "      <td>2011-07</td>\n",
       "      <td>309</td>\n",
       "      <td>7</td>\n",
       "      <td>8</td>\n",
       "    </tr>\n",
       "    <tr>\n",
       "      <th>8</th>\n",
       "      <td>2010-12</td>\n",
       "      <td>2011-08</td>\n",
       "      <td>313</td>\n",
       "      <td>8</td>\n",
       "      <td>9</td>\n",
       "    </tr>\n",
       "    <tr>\n",
       "      <th>9</th>\n",
       "      <td>2010-12</td>\n",
       "      <td>2011-09</td>\n",
       "      <td>350</td>\n",
       "      <td>9</td>\n",
       "      <td>10</td>\n",
       "    </tr>\n",
       "    <tr>\n",
       "      <th>10</th>\n",
       "      <td>2010-12</td>\n",
       "      <td>2011-10</td>\n",
       "      <td>331</td>\n",
       "      <td>10</td>\n",
       "      <td>11</td>\n",
       "    </tr>\n",
       "    <tr>\n",
       "      <th>11</th>\n",
       "      <td>2010-12</td>\n",
       "      <td>2011-11</td>\n",
       "      <td>445</td>\n",
       "      <td>11</td>\n",
       "      <td>12</td>\n",
       "    </tr>\n",
       "    <tr>\n",
       "      <th>12</th>\n",
       "      <td>2010-12</td>\n",
       "      <td>2011-12</td>\n",
       "      <td>235</td>\n",
       "      <td>12</td>\n",
       "      <td>13</td>\n",
       "    </tr>\n",
       "    <tr>\n",
       "      <th>13</th>\n",
       "      <td>2011-01</td>\n",
       "      <td>2011-01</td>\n",
       "      <td>417</td>\n",
       "      <td>0</td>\n",
       "      <td>14</td>\n",
       "    </tr>\n",
       "    <tr>\n",
       "      <th>14</th>\n",
       "      <td>2011-01</td>\n",
       "      <td>2011-02</td>\n",
       "      <td>92</td>\n",
       "      <td>1</td>\n",
       "      <td>15</td>\n",
       "    </tr>\n",
       "    <tr>\n",
       "      <th>15</th>\n",
       "      <td>2011-01</td>\n",
       "      <td>2011-03</td>\n",
       "      <td>111</td>\n",
       "      <td>2</td>\n",
       "      <td>16</td>\n",
       "    </tr>\n",
       "    <tr>\n",
       "      <th>16</th>\n",
       "      <td>2011-01</td>\n",
       "      <td>2011-04</td>\n",
       "      <td>96</td>\n",
       "      <td>3</td>\n",
       "      <td>17</td>\n",
       "    </tr>\n",
       "    <tr>\n",
       "      <th>17</th>\n",
       "      <td>2011-01</td>\n",
       "      <td>2011-05</td>\n",
       "      <td>134</td>\n",
       "      <td>4</td>\n",
       "      <td>18</td>\n",
       "    </tr>\n",
       "    <tr>\n",
       "      <th>18</th>\n",
       "      <td>2011-01</td>\n",
       "      <td>2011-06</td>\n",
       "      <td>120</td>\n",
       "      <td>5</td>\n",
       "      <td>19</td>\n",
       "    </tr>\n",
       "    <tr>\n",
       "      <th>19</th>\n",
       "      <td>2011-01</td>\n",
       "      <td>2011-07</td>\n",
       "      <td>103</td>\n",
       "      <td>6</td>\n",
       "      <td>20</td>\n",
       "    </tr>\n",
       "  </tbody>\n",
       "</table>\n",
       "</div>"
      ],
      "text/plain": [
       "     cohort order_month  num_customers  period_number  CohortPeriod\n",
       "0   2010-12     2010-12            885              0             1\n",
       "1   2010-12     2011-01            324              1             2\n",
       "2   2010-12     2011-02            286              2             3\n",
       "3   2010-12     2011-03            340              3             4\n",
       "4   2010-12     2011-04            321              4             5\n",
       "5   2010-12     2011-05            352              5             6\n",
       "6   2010-12     2011-06            321              6             7\n",
       "7   2010-12     2011-07            309              7             8\n",
       "8   2010-12     2011-08            313              8             9\n",
       "9   2010-12     2011-09            350              9            10\n",
       "10  2010-12     2011-10            331             10            11\n",
       "11  2010-12     2011-11            445             11            12\n",
       "12  2010-12     2011-12            235             12            13\n",
       "13  2011-01     2011-01            417              0            14\n",
       "14  2011-01     2011-02             92              1            15\n",
       "15  2011-01     2011-03            111              2            16\n",
       "16  2011-01     2011-04             96              3            17\n",
       "17  2011-01     2011-05            134              4            18\n",
       "18  2011-01     2011-06            120              5            19\n",
       "19  2011-01     2011-07            103              6            20"
      ]
     },
     "execution_count": 20,
     "metadata": {},
     "output_type": "execute_result"
    }
   ],
   "source": [
    "data_ca.head(20)"
   ]
  },
  {
   "cell_type": "code",
   "execution_count": 21,
   "metadata": {},
   "outputs": [],
   "source": [
    "cohort_pivot = data_ca.pivot_table(index = 'cohort',\n",
    "                                     columns = 'period_number',\n",
    "                                     values = 'num_customers')"
   ]
  },
  {
   "cell_type": "code",
   "execution_count": 22,
   "metadata": {},
   "outputs": [
    {
     "data": {
      "text/html": [
       "<div>\n",
       "<style scoped>\n",
       "    .dataframe tbody tr th:only-of-type {\n",
       "        vertical-align: middle;\n",
       "    }\n",
       "\n",
       "    .dataframe tbody tr th {\n",
       "        vertical-align: top;\n",
       "    }\n",
       "\n",
       "    .dataframe thead th {\n",
       "        text-align: right;\n",
       "    }\n",
       "</style>\n",
       "<table border=\"1\" class=\"dataframe\">\n",
       "  <thead>\n",
       "    <tr style=\"text-align: right;\">\n",
       "      <th>period_number</th>\n",
       "      <th>0</th>\n",
       "      <th>1</th>\n",
       "      <th>2</th>\n",
       "      <th>3</th>\n",
       "      <th>4</th>\n",
       "      <th>5</th>\n",
       "      <th>6</th>\n",
       "      <th>7</th>\n",
       "      <th>8</th>\n",
       "      <th>9</th>\n",
       "      <th>10</th>\n",
       "      <th>11</th>\n",
       "      <th>12</th>\n",
       "    </tr>\n",
       "    <tr>\n",
       "      <th>cohort</th>\n",
       "      <th></th>\n",
       "      <th></th>\n",
       "      <th></th>\n",
       "      <th></th>\n",
       "      <th></th>\n",
       "      <th></th>\n",
       "      <th></th>\n",
       "      <th></th>\n",
       "      <th></th>\n",
       "      <th></th>\n",
       "      <th></th>\n",
       "      <th></th>\n",
       "      <th></th>\n",
       "    </tr>\n",
       "  </thead>\n",
       "  <tbody>\n",
       "    <tr>\n",
       "      <th>2010-12</th>\n",
       "      <td>885.0</td>\n",
       "      <td>324.0</td>\n",
       "      <td>286.0</td>\n",
       "      <td>340.0</td>\n",
       "      <td>321.0</td>\n",
       "      <td>352.0</td>\n",
       "      <td>321.0</td>\n",
       "      <td>309.0</td>\n",
       "      <td>313.0</td>\n",
       "      <td>350.0</td>\n",
       "      <td>331.0</td>\n",
       "      <td>445.0</td>\n",
       "      <td>235.0</td>\n",
       "    </tr>\n",
       "    <tr>\n",
       "      <th>2011-01</th>\n",
       "      <td>417.0</td>\n",
       "      <td>92.0</td>\n",
       "      <td>111.0</td>\n",
       "      <td>96.0</td>\n",
       "      <td>134.0</td>\n",
       "      <td>120.0</td>\n",
       "      <td>103.0</td>\n",
       "      <td>101.0</td>\n",
       "      <td>125.0</td>\n",
       "      <td>136.0</td>\n",
       "      <td>152.0</td>\n",
       "      <td>49.0</td>\n",
       "      <td>NaN</td>\n",
       "    </tr>\n",
       "    <tr>\n",
       "      <th>2011-02</th>\n",
       "      <td>380.0</td>\n",
       "      <td>71.0</td>\n",
       "      <td>71.0</td>\n",
       "      <td>108.0</td>\n",
       "      <td>103.0</td>\n",
       "      <td>94.0</td>\n",
       "      <td>96.0</td>\n",
       "      <td>106.0</td>\n",
       "      <td>94.0</td>\n",
       "      <td>116.0</td>\n",
       "      <td>26.0</td>\n",
       "      <td>NaN</td>\n",
       "      <td>NaN</td>\n",
       "    </tr>\n",
       "    <tr>\n",
       "      <th>2011-03</th>\n",
       "      <td>452.0</td>\n",
       "      <td>68.0</td>\n",
       "      <td>114.0</td>\n",
       "      <td>90.0</td>\n",
       "      <td>101.0</td>\n",
       "      <td>76.0</td>\n",
       "      <td>121.0</td>\n",
       "      <td>104.0</td>\n",
       "      <td>126.0</td>\n",
       "      <td>39.0</td>\n",
       "      <td>NaN</td>\n",
       "      <td>NaN</td>\n",
       "      <td>NaN</td>\n",
       "    </tr>\n",
       "    <tr>\n",
       "      <th>2011-04</th>\n",
       "      <td>300.0</td>\n",
       "      <td>64.0</td>\n",
       "      <td>61.0</td>\n",
       "      <td>63.0</td>\n",
       "      <td>59.0</td>\n",
       "      <td>68.0</td>\n",
       "      <td>65.0</td>\n",
       "      <td>78.0</td>\n",
       "      <td>22.0</td>\n",
       "      <td>NaN</td>\n",
       "      <td>NaN</td>\n",
       "      <td>NaN</td>\n",
       "      <td>NaN</td>\n",
       "    </tr>\n",
       "    <tr>\n",
       "      <th>2011-05</th>\n",
       "      <td>284.0</td>\n",
       "      <td>54.0</td>\n",
       "      <td>49.0</td>\n",
       "      <td>49.0</td>\n",
       "      <td>59.0</td>\n",
       "      <td>66.0</td>\n",
       "      <td>75.0</td>\n",
       "      <td>27.0</td>\n",
       "      <td>NaN</td>\n",
       "      <td>NaN</td>\n",
       "      <td>NaN</td>\n",
       "      <td>NaN</td>\n",
       "      <td>NaN</td>\n",
       "    </tr>\n",
       "    <tr>\n",
       "      <th>2011-06</th>\n",
       "      <td>242.0</td>\n",
       "      <td>42.0</td>\n",
       "      <td>38.0</td>\n",
       "      <td>64.0</td>\n",
       "      <td>56.0</td>\n",
       "      <td>81.0</td>\n",
       "      <td>23.0</td>\n",
       "      <td>NaN</td>\n",
       "      <td>NaN</td>\n",
       "      <td>NaN</td>\n",
       "      <td>NaN</td>\n",
       "      <td>NaN</td>\n",
       "      <td>NaN</td>\n",
       "    </tr>\n",
       "    <tr>\n",
       "      <th>2011-07</th>\n",
       "      <td>188.0</td>\n",
       "      <td>34.0</td>\n",
       "      <td>39.0</td>\n",
       "      <td>42.0</td>\n",
       "      <td>51.0</td>\n",
       "      <td>21.0</td>\n",
       "      <td>NaN</td>\n",
       "      <td>NaN</td>\n",
       "      <td>NaN</td>\n",
       "      <td>NaN</td>\n",
       "      <td>NaN</td>\n",
       "      <td>NaN</td>\n",
       "      <td>NaN</td>\n",
       "    </tr>\n",
       "    <tr>\n",
       "      <th>2011-08</th>\n",
       "      <td>169.0</td>\n",
       "      <td>35.0</td>\n",
       "      <td>42.0</td>\n",
       "      <td>41.0</td>\n",
       "      <td>21.0</td>\n",
       "      <td>NaN</td>\n",
       "      <td>NaN</td>\n",
       "      <td>NaN</td>\n",
       "      <td>NaN</td>\n",
       "      <td>NaN</td>\n",
       "      <td>NaN</td>\n",
       "      <td>NaN</td>\n",
       "      <td>NaN</td>\n",
       "    </tr>\n",
       "    <tr>\n",
       "      <th>2011-09</th>\n",
       "      <td>299.0</td>\n",
       "      <td>70.0</td>\n",
       "      <td>90.0</td>\n",
       "      <td>34.0</td>\n",
       "      <td>NaN</td>\n",
       "      <td>NaN</td>\n",
       "      <td>NaN</td>\n",
       "      <td>NaN</td>\n",
       "      <td>NaN</td>\n",
       "      <td>NaN</td>\n",
       "      <td>NaN</td>\n",
       "      <td>NaN</td>\n",
       "      <td>NaN</td>\n",
       "    </tr>\n",
       "    <tr>\n",
       "      <th>2011-10</th>\n",
       "      <td>358.0</td>\n",
       "      <td>86.0</td>\n",
       "      <td>41.0</td>\n",
       "      <td>NaN</td>\n",
       "      <td>NaN</td>\n",
       "      <td>NaN</td>\n",
       "      <td>NaN</td>\n",
       "      <td>NaN</td>\n",
       "      <td>NaN</td>\n",
       "      <td>NaN</td>\n",
       "      <td>NaN</td>\n",
       "      <td>NaN</td>\n",
       "      <td>NaN</td>\n",
       "    </tr>\n",
       "    <tr>\n",
       "      <th>2011-11</th>\n",
       "      <td>324.0</td>\n",
       "      <td>36.0</td>\n",
       "      <td>NaN</td>\n",
       "      <td>NaN</td>\n",
       "      <td>NaN</td>\n",
       "      <td>NaN</td>\n",
       "      <td>NaN</td>\n",
       "      <td>NaN</td>\n",
       "      <td>NaN</td>\n",
       "      <td>NaN</td>\n",
       "      <td>NaN</td>\n",
       "      <td>NaN</td>\n",
       "      <td>NaN</td>\n",
       "    </tr>\n",
       "    <tr>\n",
       "      <th>2011-12</th>\n",
       "      <td>41.0</td>\n",
       "      <td>NaN</td>\n",
       "      <td>NaN</td>\n",
       "      <td>NaN</td>\n",
       "      <td>NaN</td>\n",
       "      <td>NaN</td>\n",
       "      <td>NaN</td>\n",
       "      <td>NaN</td>\n",
       "      <td>NaN</td>\n",
       "      <td>NaN</td>\n",
       "      <td>NaN</td>\n",
       "      <td>NaN</td>\n",
       "      <td>NaN</td>\n",
       "    </tr>\n",
       "  </tbody>\n",
       "</table>\n",
       "</div>"
      ],
      "text/plain": [
       "period_number     0      1      2      3      4      5      6      7      8   \\\n",
       "cohort                                                                         \n",
       "2010-12        885.0  324.0  286.0  340.0  321.0  352.0  321.0  309.0  313.0   \n",
       "2011-01        417.0   92.0  111.0   96.0  134.0  120.0  103.0  101.0  125.0   \n",
       "2011-02        380.0   71.0   71.0  108.0  103.0   94.0   96.0  106.0   94.0   \n",
       "2011-03        452.0   68.0  114.0   90.0  101.0   76.0  121.0  104.0  126.0   \n",
       "2011-04        300.0   64.0   61.0   63.0   59.0   68.0   65.0   78.0   22.0   \n",
       "2011-05        284.0   54.0   49.0   49.0   59.0   66.0   75.0   27.0    NaN   \n",
       "2011-06        242.0   42.0   38.0   64.0   56.0   81.0   23.0    NaN    NaN   \n",
       "2011-07        188.0   34.0   39.0   42.0   51.0   21.0    NaN    NaN    NaN   \n",
       "2011-08        169.0   35.0   42.0   41.0   21.0    NaN    NaN    NaN    NaN   \n",
       "2011-09        299.0   70.0   90.0   34.0    NaN    NaN    NaN    NaN    NaN   \n",
       "2011-10        358.0   86.0   41.0    NaN    NaN    NaN    NaN    NaN    NaN   \n",
       "2011-11        324.0   36.0    NaN    NaN    NaN    NaN    NaN    NaN    NaN   \n",
       "2011-12         41.0    NaN    NaN    NaN    NaN    NaN    NaN    NaN    NaN   \n",
       "\n",
       "period_number     9      10     11     12  \n",
       "cohort                                     \n",
       "2010-12        350.0  331.0  445.0  235.0  \n",
       "2011-01        136.0  152.0   49.0    NaN  \n",
       "2011-02        116.0   26.0    NaN    NaN  \n",
       "2011-03         39.0    NaN    NaN    NaN  \n",
       "2011-04          NaN    NaN    NaN    NaN  \n",
       "2011-05          NaN    NaN    NaN    NaN  \n",
       "2011-06          NaN    NaN    NaN    NaN  \n",
       "2011-07          NaN    NaN    NaN    NaN  \n",
       "2011-08          NaN    NaN    NaN    NaN  \n",
       "2011-09          NaN    NaN    NaN    NaN  \n",
       "2011-10          NaN    NaN    NaN    NaN  \n",
       "2011-11          NaN    NaN    NaN    NaN  \n",
       "2011-12          NaN    NaN    NaN    NaN  "
      ]
     },
     "execution_count": 22,
     "metadata": {},
     "output_type": "execute_result"
    }
   ],
   "source": [
    "cohort_pivot"
   ]
  },
  {
   "cell_type": "code",
   "execution_count": 23,
   "metadata": {},
   "outputs": [],
   "source": [
    "cohort_size = cohort_pivot.iloc[:,0]\n",
    "retention_matrix = cohort_pivot.divide(cohort_size, axis = 0)"
   ]
  },
  {
   "cell_type": "code",
   "execution_count": 24,
   "metadata": {},
   "outputs": [
    {
     "data": {
      "image/png": "[encoded data removed]",
      "text/plain": [
       "<Figure size 864x576 with 2 Axes>"
      ]
     },
     "metadata": {},
     "output_type": "display_data"
    }
   ],
   "source": [
    "sns.set(style='white')\n",
    "\n",
    "plt.figure(figsize=(12, 8))\n",
    "plt.title('Monthly Cohorts: User Retention')\n",
    "sns.heatmap(retention_matrix, mask=retention_matrix.isnull(), cmap=\"YlGnBu\", annot=True, fmt='.0%');\n"
   ]
  },
  {
   "cell_type": "markdown",
   "metadata": {},
   "source": [
    "### Project Task: Week 2\n",
    "##### Data Modeling :\n",
    "\n",
    "1. Build a RFM (Recency Frequency Monetary) model. Recency means the number of days since a customer made the last purchase. Frequency is the number of purchase in a given period. It could be 3 months, 6 months or 1 year. Monetary is the total amount of money a customer spent in that given period. Therefore, big spenders will be differentiated among other customers such as MVP (Minimum Viable Product) or VIP.  \n",
    "\n",
    "\n",
    "2. Calculate RFM metrics.  \n",
    "\n",
    "\n",
    "3. Build RFM Segments. Give recency, frequency, and monetary scores individually by dividing them into quartiles.  \n",
    "\n",
    "\n",
    "    b1. Combine three ratings to get a RFM segment (as strings).  \n",
    "    b2. Get the RFM score by adding up the three ratings.  \n",
    "    b3. Analyze the RFM segments by summarizing them and comment on the findings.  \n",
    "\n",
    "Note: Rate “recency\" for customer who has been active more recently higher than the less recent customer, because each company wants its customers to be recent.\n",
    "Note: Rate “frequency\" and “monetary\" higher, because the company wants the customer to visit more often and spend more money."
   ]
  },
  {
   "cell_type": "markdown",
   "metadata": {},
   "source": [
    "## Recency, Frequency, Monetary Model\n",
    "\n",
    "To calculate recency, we will be taking one day after the last invoice date of our data set as the snapshot date ‘2011–12–10 12:50:00’. The date difference will give us how recent the last transaction was made."
   ]
  },
  {
   "cell_type": "code",
   "execution_count": 25,
   "metadata": {},
   "outputs": [
    {
     "data": {
      "text/html": [
       "<div>\n",
       "<style scoped>\n",
       "    .dataframe tbody tr th:only-of-type {\n",
       "        vertical-align: middle;\n",
       "    }\n",
       "\n",
       "    .dataframe tbody tr th {\n",
       "        vertical-align: top;\n",
       "    }\n",
       "\n",
       "    .dataframe thead th {\n",
       "        text-align: right;\n",
       "    }\n",
       "</style>\n",
       "<table border=\"1\" class=\"dataframe\">\n",
       "  <thead>\n",
       "    <tr style=\"text-align: right;\">\n",
       "      <th></th>\n",
       "      <th>InvoiceNo</th>\n",
       "      <th>StockCode</th>\n",
       "      <th>Description</th>\n",
       "      <th>Quantity</th>\n",
       "      <th>InvoiceDate</th>\n",
       "      <th>UnitPrice</th>\n",
       "      <th>CustomerID</th>\n",
       "      <th>Country</th>\n",
       "    </tr>\n",
       "  </thead>\n",
       "  <tbody>\n",
       "    <tr>\n",
       "      <th>0</th>\n",
       "      <td>536365</td>\n",
       "      <td>85123A</td>\n",
       "      <td>WHITE HANGING HEART T-LIGHT HOLDER</td>\n",
       "      <td>6</td>\n",
       "      <td>2010-12-01 08:26:00</td>\n",
       "      <td>2.55</td>\n",
       "      <td>17850</td>\n",
       "      <td>United Kingdom</td>\n",
       "    </tr>\n",
       "    <tr>\n",
       "      <th>1</th>\n",
       "      <td>536365</td>\n",
       "      <td>71053</td>\n",
       "      <td>WHITE METAL LANTERN</td>\n",
       "      <td>6</td>\n",
       "      <td>2010-12-01 08:26:00</td>\n",
       "      <td>3.39</td>\n",
       "      <td>17850</td>\n",
       "      <td>United Kingdom</td>\n",
       "    </tr>\n",
       "    <tr>\n",
       "      <th>2</th>\n",
       "      <td>536365</td>\n",
       "      <td>84406B</td>\n",
       "      <td>CREAM CUPID HEARTS COAT HANGER</td>\n",
       "      <td>8</td>\n",
       "      <td>2010-12-01 08:26:00</td>\n",
       "      <td>2.75</td>\n",
       "      <td>17850</td>\n",
       "      <td>United Kingdom</td>\n",
       "    </tr>\n",
       "    <tr>\n",
       "      <th>3</th>\n",
       "      <td>536365</td>\n",
       "      <td>84029G</td>\n",
       "      <td>KNITTED UNION FLAG HOT WATER BOTTLE</td>\n",
       "      <td>6</td>\n",
       "      <td>2010-12-01 08:26:00</td>\n",
       "      <td>3.39</td>\n",
       "      <td>17850</td>\n",
       "      <td>United Kingdom</td>\n",
       "    </tr>\n",
       "    <tr>\n",
       "      <th>4</th>\n",
       "      <td>536365</td>\n",
       "      <td>84029E</td>\n",
       "      <td>RED WOOLLY HOTTIE WHITE HEART.</td>\n",
       "      <td>6</td>\n",
       "      <td>2010-12-01 08:26:00</td>\n",
       "      <td>3.39</td>\n",
       "      <td>17850</td>\n",
       "      <td>United Kingdom</td>\n",
       "    </tr>\n",
       "  </tbody>\n",
       "</table>\n",
       "</div>"
      ],
      "text/plain": [
       "  InvoiceNo StockCode                          Description  Quantity  \\\n",
       "0    536365    85123A   WHITE HANGING HEART T-LIGHT HOLDER         6   \n",
       "1    536365     71053                  WHITE METAL LANTERN         6   \n",
       "2    536365    84406B       CREAM CUPID HEARTS COAT HANGER         8   \n",
       "3    536365    84029G  KNITTED UNION FLAG HOT WATER BOTTLE         6   \n",
       "4    536365    84029E       RED WOOLLY HOTTIE WHITE HEART.         6   \n",
       "\n",
       "          InvoiceDate  UnitPrice CustomerID         Country  \n",
       "0 2010-12-01 08:26:00       2.55      17850  United Kingdom  \n",
       "1 2010-12-01 08:26:00       3.39      17850  United Kingdom  \n",
       "2 2010-12-01 08:26:00       2.75      17850  United Kingdom  \n",
       "3 2010-12-01 08:26:00       3.39      17850  United Kingdom  \n",
       "4 2010-12-01 08:26:00       3.39      17850  United Kingdom  "
      ]
     },
     "execution_count": 25,
     "metadata": {},
     "output_type": "execute_result"
    }
   ],
   "source": [
    "data.head()"
   ]
  },
  {
   "cell_type": "code",
   "execution_count": 26,
   "metadata": {},
   "outputs": [
    {
     "data": {
      "text/plain": [
       "Timestamp('2011-12-09 12:50:00')"
      ]
     },
     "execution_count": 26,
     "metadata": {},
     "output_type": "execute_result"
    }
   ],
   "source": [
    "data['InvoiceDate'].max()"
   ]
  },
  {
   "cell_type": "code",
   "execution_count": 27,
   "metadata": {},
   "outputs": [
    {
     "name": "stdout",
     "output_type": "stream",
     "text": [
      "2011-12-10 12:50:00\n"
     ]
    }
   ],
   "source": [
    "# Create TotalSum column for dataset\n",
    "data['TotalSum'] = data['Quantity'] * data['UnitPrice']\n",
    "\n",
    "# Create snapshot date\n",
    "snapshot_date = data['InvoiceDate'].max() + datetime.timedelta(days = 1)\n",
    "print(snapshot_date)\n",
    "\n",
    "# Grouping by CustomerID\n",
    "data_rfm = data.groupby('CustomerID').agg({'InvoiceDate': lambda x: (snapshot_date - x.max()).days,\n",
    "                                           'InvoiceNo': 'count',\n",
    "                                           'TotalSum': 'sum'})\n",
    "\n",
    "# Rename the columns \n",
    "data_rfm.rename(columns={'InvoiceDate': 'Recency',\n",
    "                         'InvoiceNo': 'Frequency',\n",
    "                         'TotalSum': 'Monetary'}, inplace=True)"
   ]
  },
  {
   "cell_type": "code",
   "execution_count": 28,
   "metadata": {},
   "outputs": [
    {
     "name": "stdout",
     "output_type": "stream",
     "text": [
      "4,339 rows; 3 columns\n"
     ]
    }
   ],
   "source": [
    "data_rfm.head()\n",
    "print('{:,} rows; {:,} columns'\n",
    "      .format(data_rfm.shape[0], data_rfm.shape[1]))\n",
    "\n",
    "rfm = data_rfm.copy()"
   ]
  },
  {
   "cell_type": "code",
   "execution_count": 29,
   "metadata": {},
   "outputs": [
    {
     "name": "stderr",
     "output_type": "stream",
     "text": [
      "C:\\Users\\bnmwe\\anaconda3\\lib\\site-packages\\seaborn\\distributions.py:2619: FutureWarning: `distplot` is a deprecated function and will be removed in a future version. Please adapt your code to use either `displot` (a figure-level function with similar flexibility) or `histplot` (an axes-level function for histograms).\n",
      "  warnings.warn(msg, FutureWarning)\n",
      "C:\\Users\\bnmwe\\anaconda3\\lib\\site-packages\\seaborn\\distributions.py:2619: FutureWarning: `distplot` is a deprecated function and will be removed in a future version. Please adapt your code to use either `displot` (a figure-level function with similar flexibility) or `histplot` (an axes-level function for histograms).\n",
      "  warnings.warn(msg, FutureWarning)\n",
      "C:\\Users\\bnmwe\\anaconda3\\lib\\site-packages\\seaborn\\distributions.py:2619: FutureWarning: `distplot` is a deprecated function and will be removed in a future version. Please adapt your code to use either `displot` (a figure-level function with similar flexibility) or `histplot` (an axes-level function for histograms).\n",
      "  warnings.warn(msg, FutureWarning)\n"
     ]
    },
    {
     "data": {
      "image/png": "[encoded data removed]",
      "text/plain": [
       "<Figure size 576x1080 with 3 Axes>"
      ]
     },
     "metadata": {},
     "output_type": "display_data"
    },
    {
     "data": {
      "text/plain": [
       "<Figure size 432x288 with 0 Axes>"
      ]
     },
     "metadata": {},
     "output_type": "display_data"
    }
   ],
   "source": [
    "# Examine the distribution of our Recency, Frequency, and Monetary\n",
    "fig, axes = plt.subplots(3, 1, figsize = (8, 15))\n",
    "\n",
    "sns.distplot(rfm['Recency'], ax = axes[0])\n",
    "axes[0].set_title('Distribution of Recency')\n",
    "sns.distplot(rfm['Frequency'], ax = axes[1])\n",
    "axes[1].set_title('Distribution of Frequency')\n",
    "sns.distplot(rfm['Monetary'], ax = axes[2])\n",
    "axes[2].set_title('Distribution of Monetary')\n",
    "plt.show()\n",
    "plt.tight_layout()"
   ]
  },
  {
   "cell_type": "markdown",
   "metadata": {},
   "source": [
    "#### This plot provides us with some very interesting insights and how skewed our data is. The important thing to take note here is that we will be grouping these values in quantiles."
   ]
  },
  {
   "cell_type": "code",
   "execution_count": 30,
   "metadata": {},
   "outputs": [
    {
     "data": {
      "text/html": [
       "<div>\n",
       "<style scoped>\n",
       "    .dataframe tbody tr th:only-of-type {\n",
       "        vertical-align: middle;\n",
       "    }\n",
       "\n",
       "    .dataframe tbody tr th {\n",
       "        vertical-align: top;\n",
       "    }\n",
       "\n",
       "    .dataframe thead th {\n",
       "        text-align: right;\n",
       "    }\n",
       "</style>\n",
       "<table border=\"1\" class=\"dataframe\">\n",
       "  <thead>\n",
       "    <tr style=\"text-align: right;\">\n",
       "      <th></th>\n",
       "      <th>Recency</th>\n",
       "      <th>Frequency</th>\n",
       "      <th>Monetary</th>\n",
       "      <th>R</th>\n",
       "      <th>F</th>\n",
       "      <th>M</th>\n",
       "    </tr>\n",
       "    <tr>\n",
       "      <th>CustomerID</th>\n",
       "      <th></th>\n",
       "      <th></th>\n",
       "      <th></th>\n",
       "      <th></th>\n",
       "      <th></th>\n",
       "      <th></th>\n",
       "    </tr>\n",
       "  </thead>\n",
       "  <tbody>\n",
       "    <tr>\n",
       "      <th>12346</th>\n",
       "      <td>326</td>\n",
       "      <td>1</td>\n",
       "      <td>77183.60</td>\n",
       "      <td>1</td>\n",
       "      <td>1</td>\n",
       "      <td>4</td>\n",
       "    </tr>\n",
       "    <tr>\n",
       "      <th>12347</th>\n",
       "      <td>2</td>\n",
       "      <td>182</td>\n",
       "      <td>4310.00</td>\n",
       "      <td>4</td>\n",
       "      <td>4</td>\n",
       "      <td>4</td>\n",
       "    </tr>\n",
       "    <tr>\n",
       "      <th>12348</th>\n",
       "      <td>75</td>\n",
       "      <td>31</td>\n",
       "      <td>1797.24</td>\n",
       "      <td>2</td>\n",
       "      <td>2</td>\n",
       "      <td>4</td>\n",
       "    </tr>\n",
       "    <tr>\n",
       "      <th>12349</th>\n",
       "      <td>19</td>\n",
       "      <td>73</td>\n",
       "      <td>1757.55</td>\n",
       "      <td>3</td>\n",
       "      <td>3</td>\n",
       "      <td>4</td>\n",
       "    </tr>\n",
       "    <tr>\n",
       "      <th>12350</th>\n",
       "      <td>310</td>\n",
       "      <td>17</td>\n",
       "      <td>334.40</td>\n",
       "      <td>1</td>\n",
       "      <td>1</td>\n",
       "      <td>2</td>\n",
       "    </tr>\n",
       "  </tbody>\n",
       "</table>\n",
       "</div>"
      ],
      "text/plain": [
       "            Recency  Frequency  Monetary  R  F  M\n",
       "CustomerID                                       \n",
       "12346           326          1  77183.60  1  1  4\n",
       "12347             2        182   4310.00  4  4  4\n",
       "12348            75         31   1797.24  2  2  4\n",
       "12349            19         73   1757.55  3  3  4\n",
       "12350           310         17    334.40  1  1  2"
      ]
     },
     "execution_count": 30,
     "metadata": {},
     "output_type": "execute_result"
    }
   ],
   "source": [
    "# Create labels for Recency and Frequency\n",
    "r_labels = range(4, 0, -1)\n",
    "f_labels = range(1, 5)\n",
    "m_labels = range(1, 5)\n",
    "# Assign these labels to 4 equal percentile groups \n",
    "r_groups = pd.qcut(rfm['Recency'], q = 4, labels = r_labels)\n",
    "f_groups = pd.qcut(rfm['Frequency'], q = 4, labels = f_labels)\n",
    "m_groups = pd.qcut(rfm['Monetary'], q = 4, labels = m_labels)\n",
    "# Create new columns R and F \n",
    "rfm = rfm.assign(R = r_groups.values, F = f_groups.values, M = m_groups.values)\n",
    "rfm.head()"
   ]
  },
  {
   "cell_type": "code",
   "execution_count": 31,
   "metadata": {},
   "outputs": [
    {
     "data": {
      "text/html": [
       "<div>\n",
       "<style scoped>\n",
       "    .dataframe tbody tr th:only-of-type {\n",
       "        vertical-align: middle;\n",
       "    }\n",
       "\n",
       "    .dataframe tbody tr th {\n",
       "        vertical-align: top;\n",
       "    }\n",
       "\n",
       "    .dataframe thead th {\n",
       "        text-align: right;\n",
       "    }\n",
       "</style>\n",
       "<table border=\"1\" class=\"dataframe\">\n",
       "  <thead>\n",
       "    <tr style=\"text-align: right;\">\n",
       "      <th></th>\n",
       "      <th>Recency</th>\n",
       "      <th>Frequency</th>\n",
       "      <th>Monetary</th>\n",
       "      <th>R</th>\n",
       "      <th>F</th>\n",
       "      <th>M</th>\n",
       "      <th>RFM_Segment</th>\n",
       "    </tr>\n",
       "    <tr>\n",
       "      <th>CustomerID</th>\n",
       "      <th></th>\n",
       "      <th></th>\n",
       "      <th></th>\n",
       "      <th></th>\n",
       "      <th></th>\n",
       "      <th></th>\n",
       "      <th></th>\n",
       "    </tr>\n",
       "  </thead>\n",
       "  <tbody>\n",
       "    <tr>\n",
       "      <th>12346</th>\n",
       "      <td>326</td>\n",
       "      <td>1</td>\n",
       "      <td>77183.60</td>\n",
       "      <td>1</td>\n",
       "      <td>1</td>\n",
       "      <td>4</td>\n",
       "      <td>1.01.04.0</td>\n",
       "    </tr>\n",
       "    <tr>\n",
       "      <th>12347</th>\n",
       "      <td>2</td>\n",
       "      <td>182</td>\n",
       "      <td>4310.00</td>\n",
       "      <td>4</td>\n",
       "      <td>4</td>\n",
       "      <td>4</td>\n",
       "      <td>4.04.04.0</td>\n",
       "    </tr>\n",
       "    <tr>\n",
       "      <th>12348</th>\n",
       "      <td>75</td>\n",
       "      <td>31</td>\n",
       "      <td>1797.24</td>\n",
       "      <td>2</td>\n",
       "      <td>2</td>\n",
       "      <td>4</td>\n",
       "      <td>2.02.04.0</td>\n",
       "    </tr>\n",
       "    <tr>\n",
       "      <th>12349</th>\n",
       "      <td>19</td>\n",
       "      <td>73</td>\n",
       "      <td>1757.55</td>\n",
       "      <td>3</td>\n",
       "      <td>3</td>\n",
       "      <td>4</td>\n",
       "      <td>3.03.04.0</td>\n",
       "    </tr>\n",
       "    <tr>\n",
       "      <th>12350</th>\n",
       "      <td>310</td>\n",
       "      <td>17</td>\n",
       "      <td>334.40</td>\n",
       "      <td>1</td>\n",
       "      <td>1</td>\n",
       "      <td>2</td>\n",
       "      <td>1.01.02.0</td>\n",
       "    </tr>\n",
       "  </tbody>\n",
       "</table>\n",
       "</div>"
      ],
      "text/plain": [
       "            Recency  Frequency  Monetary  R  F  M RFM_Segment\n",
       "CustomerID                                                   \n",
       "12346           326          1  77183.60  1  1  4   1.01.04.0\n",
       "12347             2        182   4310.00  4  4  4   4.04.04.0\n",
       "12348            75         31   1797.24  2  2  4   2.02.04.0\n",
       "12349            19         73   1757.55  3  3  4   3.03.04.0\n",
       "12350           310         17    334.40  1  1  2   1.01.02.0"
      ]
     },
     "execution_count": 31,
     "metadata": {},
     "output_type": "execute_result"
    }
   ],
   "source": [
    "# Concat RFM quartile values to create RFM Segments\n",
    "def join_rfm(x): \n",
    "    return str(x['R']) + str(x['F']) + str(x['M'])\n",
    "rfm['RFM_Segment'] = rfm.apply(join_rfm, axis=1)\n",
    "rfm.head()"
   ]
  },
  {
   "cell_type": "code",
   "execution_count": 32,
   "metadata": {},
   "outputs": [
    {
     "name": "stdout",
     "output_type": "stream",
     "text": [
      "61\n"
     ]
    }
   ],
   "source": [
    "# Count number of unique segments\n",
    "rfm_count_unique = rfm.groupby('RFM_Segment')['RFM_Segment'].nunique()\n",
    "print(rfm_count_unique.sum())"
   ]
  },
  {
   "cell_type": "code",
   "execution_count": 33,
   "metadata": {},
   "outputs": [
    {
     "data": {
      "image/png": "[encoded data removed]",
      "text/plain": [
       "<Figure size 864x576 with 1 Axes>"
      ]
     },
     "metadata": {},
     "output_type": "display_data"
    }
   ],
   "source": [
    "ax = rfm['RFM_Segment'].value_counts().plot(kind='bar', figsize=(12, 8), fontsize=12, color = 'b', alpha = 0.5)\n",
    "ax.set_xlabel(\"RFM Score\", fontsize=12)\n",
    "ax.set_ylabel(\"Count\", fontsize=12)\n",
    "plt.show()"
   ]
  },
  {
   "cell_type": "markdown",
   "metadata": {},
   "source": [
    "#### We can see that our largest segment is made up of our most valuable customers. However, our next largest segment is made up of our least valuable customers.  From the output, we have our concatenated segments ready to be used for our segmentation, but Having 62 different segments using the concatenate method quickly becomes unwieldy for any practical use. We will need a more concise way to define our segments. One of the most straightforward methods is to sum our scores to a single number and define RFM levels for each score range."
   ]
  },
  {
   "cell_type": "code",
   "execution_count": 34,
   "metadata": {
    "scrolled": true
   },
   "outputs": [
    {
     "name": "stdout",
     "output_type": "stream",
     "text": [
      "CustomerID\n",
      "12346     6\n",
      "12347    12\n",
      "12348     8\n",
      "12349    10\n",
      "12350     4\n",
      "Name: RFM_Score, dtype: int64\n"
     ]
    }
   ],
   "source": [
    "# Calculate RFM_Score\n",
    "rfm['RFM_Score'] = rfm[['R','F','M']].sum(axis = 1)\n",
    "print(rfm['RFM_Score'].head())"
   ]
  },
  {
   "cell_type": "code",
   "execution_count": 35,
   "metadata": {},
   "outputs": [
    {
     "data": {
      "text/html": [
       "<div>\n",
       "<style scoped>\n",
       "    .dataframe tbody tr th:only-of-type {\n",
       "        vertical-align: middle;\n",
       "    }\n",
       "\n",
       "    .dataframe tbody tr th {\n",
       "        vertical-align: top;\n",
       "    }\n",
       "\n",
       "    .dataframe thead th {\n",
       "        text-align: right;\n",
       "    }\n",
       "</style>\n",
       "<table border=\"1\" class=\"dataframe\">\n",
       "  <thead>\n",
       "    <tr style=\"text-align: right;\">\n",
       "      <th></th>\n",
       "      <th>Recency</th>\n",
       "      <th>Frequency</th>\n",
       "      <th>Monetary</th>\n",
       "      <th>R</th>\n",
       "      <th>F</th>\n",
       "      <th>M</th>\n",
       "      <th>RFM_Segment</th>\n",
       "      <th>RFM_Score</th>\n",
       "      <th>RFM_Level</th>\n",
       "    </tr>\n",
       "    <tr>\n",
       "      <th>CustomerID</th>\n",
       "      <th></th>\n",
       "      <th></th>\n",
       "      <th></th>\n",
       "      <th></th>\n",
       "      <th></th>\n",
       "      <th></th>\n",
       "      <th></th>\n",
       "      <th></th>\n",
       "      <th></th>\n",
       "    </tr>\n",
       "  </thead>\n",
       "  <tbody>\n",
       "    <tr>\n",
       "      <th>12346</th>\n",
       "      <td>326</td>\n",
       "      <td>1</td>\n",
       "      <td>77183.60</td>\n",
       "      <td>1</td>\n",
       "      <td>1</td>\n",
       "      <td>4</td>\n",
       "      <td>1.01.04.0</td>\n",
       "      <td>6</td>\n",
       "      <td>Potential</td>\n",
       "    </tr>\n",
       "    <tr>\n",
       "      <th>12347</th>\n",
       "      <td>2</td>\n",
       "      <td>182</td>\n",
       "      <td>4310.00</td>\n",
       "      <td>4</td>\n",
       "      <td>4</td>\n",
       "      <td>4</td>\n",
       "      <td>4.04.04.0</td>\n",
       "      <td>12</td>\n",
       "      <td>Cannot Loose Them</td>\n",
       "    </tr>\n",
       "    <tr>\n",
       "      <th>12348</th>\n",
       "      <td>75</td>\n",
       "      <td>31</td>\n",
       "      <td>1797.24</td>\n",
       "      <td>2</td>\n",
       "      <td>2</td>\n",
       "      <td>4</td>\n",
       "      <td>2.02.04.0</td>\n",
       "      <td>8</td>\n",
       "      <td>Champions</td>\n",
       "    </tr>\n",
       "    <tr>\n",
       "      <th>12349</th>\n",
       "      <td>19</td>\n",
       "      <td>73</td>\n",
       "      <td>1757.55</td>\n",
       "      <td>3</td>\n",
       "      <td>3</td>\n",
       "      <td>4</td>\n",
       "      <td>3.03.04.0</td>\n",
       "      <td>10</td>\n",
       "      <td>Cannot Loose Them</td>\n",
       "    </tr>\n",
       "    <tr>\n",
       "      <th>12350</th>\n",
       "      <td>310</td>\n",
       "      <td>17</td>\n",
       "      <td>334.40</td>\n",
       "      <td>1</td>\n",
       "      <td>1</td>\n",
       "      <td>2</td>\n",
       "      <td>1.01.02.0</td>\n",
       "      <td>4</td>\n",
       "      <td>Needs Attention</td>\n",
       "    </tr>\n",
       "  </tbody>\n",
       "</table>\n",
       "</div>"
      ],
      "text/plain": [
       "            Recency  Frequency  Monetary  R  F  M RFM_Segment  RFM_Score  \\\n",
       "CustomerID                                                                 \n",
       "12346           326          1  77183.60  1  1  4   1.01.04.0          6   \n",
       "12347             2        182   4310.00  4  4  4   4.04.04.0         12   \n",
       "12348            75         31   1797.24  2  2  4   2.02.04.0          8   \n",
       "12349            19         73   1757.55  3  3  4   3.03.04.0         10   \n",
       "12350           310         17    334.40  1  1  2   1.01.02.0          4   \n",
       "\n",
       "                    RFM_Level  \n",
       "CustomerID                     \n",
       "12346               Potential  \n",
       "12347       Cannot Loose Them  \n",
       "12348               Champions  \n",
       "12349       Cannot Loose Them  \n",
       "12350         Needs Attention  "
      ]
     },
     "execution_count": 35,
     "metadata": {},
     "output_type": "execute_result"
    }
   ],
   "source": [
    "# Define rfm_level function\n",
    "def rfm_level(df):\n",
    "    if df['RFM_Score'] >= 9:\n",
    "        return 'Cannot Loose Them'\n",
    "    elif ((df['RFM_Score'] >= 8) and (df['RFM_Score'] < 9)):\n",
    "        return 'Champions'\n",
    "    elif ((df['RFM_Score'] >= 7) and (df['RFM_Score'] < 8)):\n",
    "        return 'Loyal'\n",
    "    elif ((df['RFM_Score'] >= 6) and (df['RFM_Score'] < 7)):\n",
    "        return 'Potential'\n",
    "    elif ((df['RFM_Score'] >= 5) and (df['RFM_Score'] < 6)):\n",
    "        return 'Promising'\n",
    "    elif ((df['RFM_Score'] >= 4) and (df['RFM_Score'] < 5)):\n",
    "        return 'Needs Attention'\n",
    "    else:\n",
    "        return 'Requires Activation'\n",
    "# Create a new variable RFM_Level\n",
    "rfm['RFM_Level'] = rfm.apply(rfm_level, axis=1)\n",
    "# Print the header with top 5 rows to the console\n",
    "rfm.head()"
   ]
  },
  {
   "cell_type": "markdown",
   "metadata": {},
   "source": [
    "#### Then we can finally group our customers by their RFM level"
   ]
  },
  {
   "cell_type": "code",
   "execution_count": 36,
   "metadata": {},
   "outputs": [
    {
     "name": "stdout",
     "output_type": "stream",
     "text": [
      "                    Recency Frequency Monetary      \n",
      "                       mean      mean     mean count\n",
      "RFM_Level                                           \n",
      "Cannot Loose Them     26.45    189.38  4394.67  1677\n",
      "Champions             64.06     56.03   987.32   454\n",
      "Loyal                 79.43     37.94   757.14   464\n",
      "Needs Attention      177.21     13.60   239.99   388\n",
      "Potential             95.91     27.84   820.14   457\n",
      "Promising            152.93     21.20   366.60   518\n",
      "Requires Activation  260.73      8.20   157.42   381\n"
     ]
    }
   ],
   "source": [
    "# Calculate average values for each RFM_Level, and return a size of each segment \n",
    "rfm_level_agg = rfm.groupby('RFM_Level').agg({'Recency': 'mean',\n",
    "                                              'Frequency': 'mean',\n",
    "                                              'Monetary': ['mean', 'count']}).round(2)\n",
    "# Print the aggregated dataset\n",
    "print(rfm_level_agg)"
   ]
  },
  {
   "cell_type": "markdown",
   "metadata": {},
   "source": [
    "#### We can see that a large percentage (~60%) of our customers are in the top tier RFM levels. The store must be doing something right to be maintaining their loyalty!"
   ]
  },
  {
   "cell_type": "code",
   "execution_count": 37,
   "metadata": {},
   "outputs": [
    {
     "data": {
      "image/png": "[encoded data removed]",
      "text/plain": [
       "<Figure size 864x576 with 1 Axes>"
      ]
     },
     "metadata": {},
     "output_type": "display_data"
    }
   ],
   "source": [
    "# Build treemaps using Squarify and matplotlib\n",
    "rfm_level_agg.columns = ['RecencyMean','FrequencyMean','MonetaryMean', 'Count']\n",
    "# Create our plot and resize it.\n",
    "fig = plt.gcf()\n",
    "ax = fig.add_subplot()\n",
    "fig.set_size_inches(12, 8)\n",
    "squarify.plot(sizes=rfm_level_agg['Count'], \n",
    "              label=['Cannot Loose Them',\n",
    "                     'Champions',\n",
    "                     'Loyal',\n",
    "                     'Needs Attention',\n",
    "                     'Potential', \n",
    "                     'Promising', \n",
    "                     'Requires Activation'],\n",
    "              color = ['red','green','blue', 'grey', 'cyan', 'yellow', 'purple'], alpha=.6 )\n",
    "plt.title(\"RFM Segments\",fontsize=18,fontweight=\"bold\")\n",
    "plt.axis('off')\n",
    "plt.show()"
   ]
  },
  {
   "cell_type": "markdown",
   "metadata": {},
   "source": [
    "### Project Task: Week 3\n",
    "#### Data Modeling :\n",
    "\n",
    "1. Create clusters using k-means clustering algorithm.\n",
    "\n",
    "  a. Prepare the data for the algorithm. If the data is asymmetrically distributed, manage the skewness with appropriate transformation. Standardize the data.  \n",
    "  b. Decide the optimum number of clusters to be formed.  \n",
    "  c. Analyze these clusters and comment on the results."
   ]
  },
  {
   "cell_type": "markdown",
   "metadata": {},
   "source": [
    "### RFM Segmentation Using K-Means Clustering\n",
    "From above analysis, we can see there is a general skewnesss of R, F and M to the right. To address this, we will apply log transformation to our data."
   ]
  },
  {
   "cell_type": "code",
   "execution_count": 38,
   "metadata": {},
   "outputs": [
    {
     "data": {
      "text/html": [
       "<div>\n",
       "<style scoped>\n",
       "    .dataframe tbody tr th:only-of-type {\n",
       "        vertical-align: middle;\n",
       "    }\n",
       "\n",
       "    .dataframe tbody tr th {\n",
       "        vertical-align: top;\n",
       "    }\n",
       "\n",
       "    .dataframe thead th {\n",
       "        text-align: right;\n",
       "    }\n",
       "</style>\n",
       "<table border=\"1\" class=\"dataframe\">\n",
       "  <thead>\n",
       "    <tr style=\"text-align: right;\">\n",
       "      <th></th>\n",
       "      <th>Recency</th>\n",
       "      <th>Frequency</th>\n",
       "      <th>Monetary</th>\n",
       "    </tr>\n",
       "    <tr>\n",
       "      <th>CustomerID</th>\n",
       "      <th></th>\n",
       "      <th></th>\n",
       "      <th></th>\n",
       "    </tr>\n",
       "  </thead>\n",
       "  <tbody>\n",
       "    <tr>\n",
       "      <th>12346</th>\n",
       "      <td>326</td>\n",
       "      <td>1</td>\n",
       "      <td>77183.60</td>\n",
       "    </tr>\n",
       "    <tr>\n",
       "      <th>12347</th>\n",
       "      <td>2</td>\n",
       "      <td>182</td>\n",
       "      <td>4310.00</td>\n",
       "    </tr>\n",
       "    <tr>\n",
       "      <th>12348</th>\n",
       "      <td>75</td>\n",
       "      <td>31</td>\n",
       "      <td>1797.24</td>\n",
       "    </tr>\n",
       "    <tr>\n",
       "      <th>12349</th>\n",
       "      <td>19</td>\n",
       "      <td>73</td>\n",
       "      <td>1757.55</td>\n",
       "    </tr>\n",
       "    <tr>\n",
       "      <th>12350</th>\n",
       "      <td>310</td>\n",
       "      <td>17</td>\n",
       "      <td>334.40</td>\n",
       "    </tr>\n",
       "  </tbody>\n",
       "</table>\n",
       "</div>"
      ],
      "text/plain": [
       "            Recency  Frequency  Monetary\n",
       "CustomerID                              \n",
       "12346           326          1  77183.60\n",
       "12347             2        182   4310.00\n",
       "12348            75         31   1797.24\n",
       "12349            19         73   1757.55\n",
       "12350           310         17    334.40"
      ]
     },
     "execution_count": 38,
     "metadata": {},
     "output_type": "execute_result"
    }
   ],
   "source": [
    "data_rfm.head()"
   ]
  },
  {
   "cell_type": "code",
   "execution_count": 39,
   "metadata": {},
   "outputs": [],
   "source": [
    "# Apply log transformation\n",
    "data_rfm_log = np.log(data_rfm + 1)\n",
    "#data_rfm['recency_log'] = np.log(data_rfm['Recency'])\n",
    "#data_rfm['frequency_log'] = np.log(data_rfm['Frequency'])\n",
    "#data_rfm['monetary_log'] = np.log(data_rfm['Monetary'])"
   ]
  },
  {
   "cell_type": "code",
   "execution_count": 40,
   "metadata": {},
   "outputs": [
    {
     "name": "stderr",
     "output_type": "stream",
     "text": [
      "C:\\Users\\bnmwe\\anaconda3\\lib\\site-packages\\seaborn\\distributions.py:2619: FutureWarning: `distplot` is a deprecated function and will be removed in a future version. Please adapt your code to use either `displot` (a figure-level function with similar flexibility) or `histplot` (an axes-level function for histograms).\n",
      "  warnings.warn(msg, FutureWarning)\n",
      "C:\\Users\\bnmwe\\anaconda3\\lib\\site-packages\\seaborn\\distributions.py:2619: FutureWarning: `distplot` is a deprecated function and will be removed in a future version. Please adapt your code to use either `displot` (a figure-level function with similar flexibility) or `histplot` (an axes-level function for histograms).\n",
      "  warnings.warn(msg, FutureWarning)\n",
      "C:\\Users\\bnmwe\\anaconda3\\lib\\site-packages\\seaborn\\distributions.py:2619: FutureWarning: `distplot` is a deprecated function and will be removed in a future version. Please adapt your code to use either `displot` (a figure-level function with similar flexibility) or `histplot` (an axes-level function for histograms).\n",
      "  warnings.warn(msg, FutureWarning)\n"
     ]
    },
    {
     "data": {
      "image/png": "[encoded data removed]",
      "text/plain": [
       "<Figure size 576x1080 with 3 Axes>"
      ]
     },
     "metadata": {},
     "output_type": "display_data"
    }
   ],
   "source": [
    "# Plot RFM distributions\n",
    "plt.figure(figsize=(8,15))\n",
    "plt.subplot(3, 1, 1)\n",
    "sns.distplot(data_rfm_log['Recency'])\n",
    "plt.subplot(3, 1, 2)\n",
    "sns.distplot(data_rfm_log['Frequency'])\n",
    "plt.subplot(3, 1, 3)\n",
    "sns.distplot(data_rfm_log['Monetary'])\n",
    "plt.show()"
   ]
  },
  {
   "cell_type": "code",
   "execution_count": 41,
   "metadata": {},
   "outputs": [
    {
     "data": {
      "text/html": [
       "<div>\n",
       "<style scoped>\n",
       "    .dataframe tbody tr th:only-of-type {\n",
       "        vertical-align: middle;\n",
       "    }\n",
       "\n",
       "    .dataframe tbody tr th {\n",
       "        vertical-align: top;\n",
       "    }\n",
       "\n",
       "    .dataframe thead th {\n",
       "        text-align: right;\n",
       "    }\n",
       "</style>\n",
       "<table border=\"1\" class=\"dataframe\">\n",
       "  <thead>\n",
       "    <tr style=\"text-align: right;\">\n",
       "      <th></th>\n",
       "      <th>Recency</th>\n",
       "      <th>Frequency</th>\n",
       "      <th>Monetary</th>\n",
       "    </tr>\n",
       "  </thead>\n",
       "  <tbody>\n",
       "    <tr>\n",
       "      <th>count</th>\n",
       "      <td>4339.000000</td>\n",
       "      <td>4339.000000</td>\n",
       "      <td>4339.000000</td>\n",
       "    </tr>\n",
       "    <tr>\n",
       "      <th>mean</th>\n",
       "      <td>3.830475</td>\n",
       "      <td>3.728500</td>\n",
       "      <td>6.587044</td>\n",
       "    </tr>\n",
       "    <tr>\n",
       "      <th>std</th>\n",
       "      <td>1.340215</td>\n",
       "      <td>1.245858</td>\n",
       "      <td>1.262262</td>\n",
       "    </tr>\n",
       "    <tr>\n",
       "      <th>min</th>\n",
       "      <td>0.693147</td>\n",
       "      <td>0.693147</td>\n",
       "      <td>0.000000</td>\n",
       "    </tr>\n",
       "    <tr>\n",
       "      <th>25%</th>\n",
       "      <td>2.944439</td>\n",
       "      <td>2.890372</td>\n",
       "      <td>5.728329</td>\n",
       "    </tr>\n",
       "    <tr>\n",
       "      <th>50%</th>\n",
       "      <td>3.951244</td>\n",
       "      <td>3.737670</td>\n",
       "      <td>6.506621</td>\n",
       "    </tr>\n",
       "    <tr>\n",
       "      <th>75%</th>\n",
       "      <td>4.962845</td>\n",
       "      <td>4.595120</td>\n",
       "      <td>7.415365</td>\n",
       "    </tr>\n",
       "    <tr>\n",
       "      <th>max</th>\n",
       "      <td>5.926926</td>\n",
       "      <td>8.945984</td>\n",
       "      <td>12.543284</td>\n",
       "    </tr>\n",
       "  </tbody>\n",
       "</table>\n",
       "</div>"
      ],
      "text/plain": [
       "           Recency    Frequency     Monetary\n",
       "count  4339.000000  4339.000000  4339.000000\n",
       "mean      3.830475     3.728500     6.587044\n",
       "std       1.340215     1.245858     1.262262\n",
       "min       0.693147     0.693147     0.000000\n",
       "25%       2.944439     2.890372     5.728329\n",
       "50%       3.951244     3.737670     6.506621\n",
       "75%       4.962845     4.595120     7.415365\n",
       "max       5.926926     8.945984    12.543284"
      ]
     },
     "execution_count": 41,
     "metadata": {},
     "output_type": "execute_result"
    }
   ],
   "source": [
    "data_rfm_log.describe()"
   ]
  },
  {
   "cell_type": "code",
   "execution_count": 42,
   "metadata": {},
   "outputs": [],
   "source": [
    "# Standardrizing the data\n",
    "scaler = StandardScaler()\n",
    "scaler.fit(data_rfm_log)\n",
    "\n",
    "data_rfm_scaled = scaler.transform(data_rfm_log)"
   ]
  },
  {
   "cell_type": "code",
   "execution_count": 43,
   "metadata": {},
   "outputs": [
    {
     "data": {
      "text/plain": [
       "Text(0, 0.5, 'WCSS')"
      ]
     },
     "execution_count": 43,
     "metadata": {},
     "output_type": "execute_result"
    },
    {
     "data": {
      "image/png": "[encoded data removed]",
      "text/plain": [
       "<Figure size 576x360 with 1 Axes>"
      ]
     },
     "metadata": {},
     "output_type": "display_data"
    }
   ],
   "source": [
    "# Fit KMeans and calculate SSE for each *k*\n",
    "wcss = []\n",
    "for i in range(1, 11):\n",
    "    kmeans = KMeans(n_clusters = i, init = 'k-means++', random_state = 2)\n",
    "    kmeans.fit(data_rfm_scaled)\n",
    "    wcss.append(kmeans.inertia_)\n",
    "\n",
    "fig, axes = plt.subplots(figsize=(8, 5))    \n",
    "plt.plot(range(1, 11), wcss, '-*')\n",
    "plt.title('The Elbow Method')\n",
    "plt.xlabel('Number of clusters')\n",
    "plt.ylabel('WCSS')\n"
   ]
  },
  {
   "cell_type": "markdown",
   "metadata": {},
   "source": [
    "#### Ideally, we want to choose the point on the elbow chart where the WCSS stops decreasing at an increasing rate, i.e. the point where the change gradient of between the number of clusters becomes constant. For our model we will choose k=4."
   ]
  },
  {
   "cell_type": "code",
   "execution_count": 44,
   "metadata": {},
   "outputs": [
    {
     "data": {
      "text/html": [
       "<div>\n",
       "<style scoped>\n",
       "    .dataframe tbody tr th:only-of-type {\n",
       "        vertical-align: middle;\n",
       "    }\n",
       "\n",
       "    .dataframe tbody tr th {\n",
       "        vertical-align: top;\n",
       "    }\n",
       "\n",
       "    .dataframe thead th {\n",
       "        text-align: right;\n",
       "    }\n",
       "</style>\n",
       "<table border=\"1\" class=\"dataframe\">\n",
       "  <thead>\n",
       "    <tr style=\"text-align: right;\">\n",
       "      <th></th>\n",
       "      <th>Recency</th>\n",
       "      <th>Frequency</th>\n",
       "      <th>Monetary</th>\n",
       "    </tr>\n",
       "    <tr>\n",
       "      <th>Cluster</th>\n",
       "      <th></th>\n",
       "      <th></th>\n",
       "      <th></th>\n",
       "    </tr>\n",
       "  </thead>\n",
       "  <tbody>\n",
       "    <tr>\n",
       "      <th>0</th>\n",
       "      <td>186.0</td>\n",
       "      <td>15.0</td>\n",
       "      <td>298.0</td>\n",
       "    </tr>\n",
       "    <tr>\n",
       "      <th>1</th>\n",
       "      <td>20.0</td>\n",
       "      <td>38.0</td>\n",
       "      <td>604.0</td>\n",
       "    </tr>\n",
       "    <tr>\n",
       "      <th>2</th>\n",
       "      <td>95.0</td>\n",
       "      <td>79.0</td>\n",
       "      <td>1520.0</td>\n",
       "    </tr>\n",
       "    <tr>\n",
       "      <th>3</th>\n",
       "      <td>13.0</td>\n",
       "      <td>280.0</td>\n",
       "      <td>7053.0</td>\n",
       "    </tr>\n",
       "  </tbody>\n",
       "</table>\n",
       "</div>"
      ],
      "text/plain": [
       "         Recency  Frequency  Monetary\n",
       "Cluster                              \n",
       "0          186.0       15.0     298.0\n",
       "1           20.0       38.0     604.0\n",
       "2           95.0       79.0    1520.0\n",
       "3           13.0      280.0    7053.0"
      ]
     },
     "execution_count": 44,
     "metadata": {},
     "output_type": "execute_result"
    }
   ],
   "source": [
    "# Choose k=4 and fit data set to k-means model\n",
    "kmeans = KMeans(n_clusters=4, random_state=1)\n",
    "kmeans.fit(data_rfm_scaled)\n",
    "# Assign k-means labels to cluster labels\n",
    "cluster_labels = kmeans.labels_\n",
    "# Assign cluster labels to original pre-transformed data set\n",
    "data_rfm_k4 = data_rfm.assign(Cluster = cluster_labels)\n",
    "# Group data set by k-means cluster\n",
    "data_rfm_k4.groupby(['Cluster']).agg({\n",
    "    'Recency': 'mean',\n",
    "    'Frequency': 'mean',\n",
    "    'Monetary': 'mean'}).round(0)\n"
   ]
  },
  {
   "cell_type": "code",
   "execution_count": 45,
   "metadata": {},
   "outputs": [],
   "source": [
    "data_rfm_scaled = pd.DataFrame(data_rfm_scaled,\n",
    "index=data_rfm.index,\n",
    "columns=data_rfm.columns)\n",
    "data_rfm_scaled['Cluster'] = data_rfm_k4['Cluster']"
   ]
  },
  {
   "cell_type": "code",
   "execution_count": 46,
   "metadata": {},
   "outputs": [
    {
     "data": {
      "text/plain": [
       "<AxesSubplot:title={'center':'Snake plot of Cluster'}, xlabel='Attribute', ylabel='Value'>"
      ]
     },
     "execution_count": 46,
     "metadata": {},
     "output_type": "execute_result"
    },
    {
     "data": {
      "image/png": "[encoded data removed]",
      "text/plain": [
       "<Figure size 432x288 with 1 Axes>"
      ]
     },
     "metadata": {},
     "output_type": "display_data"
    }
   ],
   "source": [
    "# Visualize a snake plot\n",
    "data_melt = pd.melt(data_rfm_scaled.reset_index(),\n",
    "id_vars=['CustomerID', 'Cluster'],\n",
    "value_vars=['Recency', 'Frequency', 'Monetary'],\n",
    "var_name='Attribute',\n",
    "value_name='Value')\n",
    "plt.title('Snake plot of Cluster')\n",
    "sns.lineplot(x=\"Attribute\", y=\"Value\", hue='Cluster', data=data_melt)"
   ]
  },
  {
   "cell_type": "code",
   "execution_count": 47,
   "metadata": {},
   "outputs": [],
   "source": [
    "cluster_avg = data_rfm_k4.groupby(['Cluster']).mean()\n",
    "population_avg = data_rfm.mean()\n",
    "relative_imp = cluster_avg / population_avg - 1"
   ]
  },
  {
   "cell_type": "code",
   "execution_count": 48,
   "metadata": {},
   "outputs": [
    {
     "data": {
      "text/html": [
       "<div>\n",
       "<style scoped>\n",
       "    .dataframe tbody tr th:only-of-type {\n",
       "        vertical-align: middle;\n",
       "    }\n",
       "\n",
       "    .dataframe tbody tr th {\n",
       "        vertical-align: top;\n",
       "    }\n",
       "\n",
       "    .dataframe thead th {\n",
       "        text-align: right;\n",
       "    }\n",
       "</style>\n",
       "<table border=\"1\" class=\"dataframe\">\n",
       "  <thead>\n",
       "    <tr style=\"text-align: right;\">\n",
       "      <th></th>\n",
       "      <th>Recency</th>\n",
       "      <th>Frequency</th>\n",
       "      <th>Monetary</th>\n",
       "    </tr>\n",
       "    <tr>\n",
       "      <th>Cluster</th>\n",
       "      <th></th>\n",
       "      <th></th>\n",
       "      <th></th>\n",
       "    </tr>\n",
       "  </thead>\n",
       "  <tbody>\n",
       "    <tr>\n",
       "      <th>0</th>\n",
       "      <td>1.02</td>\n",
       "      <td>-0.83</td>\n",
       "      <td>-0.85</td>\n",
       "    </tr>\n",
       "    <tr>\n",
       "      <th>1</th>\n",
       "      <td>-0.78</td>\n",
       "      <td>-0.58</td>\n",
       "      <td>-0.71</td>\n",
       "    </tr>\n",
       "    <tr>\n",
       "      <th>2</th>\n",
       "      <td>0.03</td>\n",
       "      <td>-0.12</td>\n",
       "      <td>-0.26</td>\n",
       "    </tr>\n",
       "    <tr>\n",
       "      <th>3</th>\n",
       "      <td>-0.86</td>\n",
       "      <td>2.10</td>\n",
       "      <td>2.44</td>\n",
       "    </tr>\n",
       "  </tbody>\n",
       "</table>\n",
       "</div>"
      ],
      "text/plain": [
       "         Recency  Frequency  Monetary\n",
       "Cluster                              \n",
       "0           1.02      -0.83     -0.85\n",
       "1          -0.78      -0.58     -0.71\n",
       "2           0.03      -0.12     -0.26\n",
       "3          -0.86       2.10      2.44"
      ]
     },
     "execution_count": 48,
     "metadata": {},
     "output_type": "execute_result"
    }
   ],
   "source": [
    "relative_imp.round(2)"
   ]
  },
  {
   "cell_type": "code",
   "execution_count": 49,
   "metadata": {},
   "outputs": [
    {
     "data": {
      "image/png": "[encoded data removed]",
      "text/plain": [
       "<Figure size 864x432 with 2 Axes>"
      ]
     },
     "metadata": {},
     "output_type": "display_data"
    }
   ],
   "source": [
    "# Relative importance heatmap\n",
    "plt.figure(figsize=(12, 6))\n",
    "plt.title('Relative importance of attributes')\n",
    "sns.heatmap(data=relative_imp, annot=True, fmt='.2f', cmap='YlGnBu')\n",
    "plt.show()"
   ]
  },
  {
   "cell_type": "markdown",
   "metadata": {},
   "source": [
    "### We can see each cluster of customers places a different emphasis on our features (R, F and M).\n",
    "\n",
    "- Cluster 0 performs poorly, and has the lowest frequency and monetary, hasn't shopped with us for half a year - we will need to design campaigns to activate them again.\n",
    "- Cluster 1 shopped with us recently but have not spend as much or as frequently as we would like them to — perhaps some personalization of products targeted at them can help to maximize their lifetime-value.\n",
    "- Cluster 2 has spent quite a fair amount with us but has not shopped with us in the 3–4 months — We will need to take some actions before we lose them!\n",
    "- Cluster 3 has the highest Montary mean and lowest Recency mean and the highest frequency mean — This is our ideal core customer segment."
   ]
  },
  {
   "cell_type": "markdown",
   "metadata": {},
   "source": [
    "### Project Task: Week 4\n",
    "#### Data Reporting:​​​​​​​\n",
    "\n",
    "1. Create a dashboard in tableau by choosing appropriate chart types and metrics useful for the business. The dashboard must entail the following:\n",
    "\n",
    "  a. Country-wise analysis to demonstrate average spend. Use a bar chart to show the monthly figures \n",
    "  b. Bar graph of top 15 products which are mostly ordered by the users to show the number of products sold  \n",
    "  c. Bar graph to show the count of orders vs. hours throughout the day  \n",
    "  d. Plot the distribution of RFM values using histogram and frequency charts  \n",
    "  e. Plot error (cost) vs. number of clusters selected  \n",
    "  f. Visualize to compare the RFM values of the clusters using heatmap"
   ]
  },
  {
   "cell_type": "markdown",
   "metadata": {},
   "source": [
    "### Here is my tableau report link.\n",
    "\n",
    "https://public.tableau.com/app/profile/baomei.wen/viz/RFMAnalysisinOnlineRetail/Dashboard1"
   ]
  },
  {
   "cell_type": "code",
   "execution_count": null,
   "metadata": {},
   "outputs": [],
   "source": []
  }
 ],
 "metadata": {
  "kernelspec": {
   "display_name": "Python 3",
   "language": "python",
   "name": "python3"
  },
  "language_info": {
   "codemirror_mode": {
    "name": "ipython",
    "version": 3
   },
   "file_extension": ".py",
   "mimetype": "text/x-python",
   "name": "python",
   "nbconvert_exporter": "python",
   "pygments_lexer": "ipython3",
   "version": "3.7.6"
  },
  "toc": {
   "base_numbering": 1,
   "nav_menu": {},
   "number_sections": false,
   "sideBar": true,
   "skip_h1_title": false,
   "title_cell": "Table of Contents",
   "title_sidebar": "Contents",
   "toc_cell": false,
   "toc_position": {},
   "toc_section_display": true,
   "toc_window_display": false
  }
 },
 "nbformat": 4,
 "nbformat_minor": 4
}
